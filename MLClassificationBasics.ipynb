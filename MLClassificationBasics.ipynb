{
 "cells": [
  {
   "cell_type": "markdown",
   "id": "7ed52615-640e-4ef9-aa71-0ba4446896f3",
   "metadata": {},
   "source": [
    "In this exercise, you'll be working with a dataset containing information about passengers on the Titanic. You can get more information about this dataset [here](https://www.kaggle.com/competitions/titanic). Our goal will be to build a model to predict whether a passenger survived the voyage.\n",
    "\n",
    "Let's start by building a model using Age as a predictor variable.\n",
    "\n",
    "When performing a train/test split, you usually want to make sure that the ratios of target values look the same in the training set and in the test set. This is especially true with imbalanced targets, where there are more observations in one class than the other. This can be done by, instead of a completely random split, by performing a **stratified** split."
   ]
  },
  {
   "cell_type": "code",
   "execution_count": 2,
   "id": "78cf7419-300d-45d1-964a-b8a751817a5a",
   "metadata": {},
   "outputs": [],
   "source": [
    "import pandas as pd\n",
    "import numpy as np\n",
    "import matplotlib.pyplot as plt"
   ]
  },
  {
   "cell_type": "code",
   "execution_count": 3,
   "id": "e130010e-d2da-48bc-b553-5e9b15c74674",
   "metadata": {},
   "outputs": [
    {
     "data": {
      "text/html": [
       "<div>\n",
       "<style scoped>\n",
       "    .dataframe tbody tr th:only-of-type {\n",
       "        vertical-align: middle;\n",
       "    }\n",
       "\n",
       "    .dataframe tbody tr th {\n",
       "        vertical-align: top;\n",
       "    }\n",
       "\n",
       "    .dataframe thead th {\n",
       "        text-align: right;\n",
       "    }\n",
       "</style>\n",
       "<table border=\"1\" class=\"dataframe\">\n",
       "  <thead>\n",
       "    <tr style=\"text-align: right;\">\n",
       "      <th></th>\n",
       "      <th>PassengerId</th>\n",
       "      <th>Survived</th>\n",
       "      <th>Pclass</th>\n",
       "      <th>Name</th>\n",
       "      <th>Sex</th>\n",
       "      <th>Age</th>\n",
       "      <th>SibSp</th>\n",
       "      <th>Parch</th>\n",
       "      <th>Ticket</th>\n",
       "      <th>Fare</th>\n",
       "      <th>Cabin</th>\n",
       "      <th>Embarked</th>\n",
       "    </tr>\n",
       "  </thead>\n",
       "  <tbody>\n",
       "    <tr>\n",
       "      <th>0</th>\n",
       "      <td>1</td>\n",
       "      <td>0</td>\n",
       "      <td>3</td>\n",
       "      <td>Braund, Mr. Owen Harris</td>\n",
       "      <td>male</td>\n",
       "      <td>22.0</td>\n",
       "      <td>1</td>\n",
       "      <td>0</td>\n",
       "      <td>A/5 21171</td>\n",
       "      <td>7.2500</td>\n",
       "      <td>NaN</td>\n",
       "      <td>S</td>\n",
       "    </tr>\n",
       "    <tr>\n",
       "      <th>1</th>\n",
       "      <td>2</td>\n",
       "      <td>1</td>\n",
       "      <td>1</td>\n",
       "      <td>Cumings, Mrs. John Bradley (Florence Briggs Th...</td>\n",
       "      <td>female</td>\n",
       "      <td>38.0</td>\n",
       "      <td>1</td>\n",
       "      <td>0</td>\n",
       "      <td>PC 17599</td>\n",
       "      <td>71.2833</td>\n",
       "      <td>C85</td>\n",
       "      <td>C</td>\n",
       "    </tr>\n",
       "    <tr>\n",
       "      <th>2</th>\n",
       "      <td>3</td>\n",
       "      <td>1</td>\n",
       "      <td>3</td>\n",
       "      <td>Heikkinen, Miss. Laina</td>\n",
       "      <td>female</td>\n",
       "      <td>26.0</td>\n",
       "      <td>0</td>\n",
       "      <td>0</td>\n",
       "      <td>STON/O2. 3101282</td>\n",
       "      <td>7.9250</td>\n",
       "      <td>NaN</td>\n",
       "      <td>S</td>\n",
       "    </tr>\n",
       "    <tr>\n",
       "      <th>3</th>\n",
       "      <td>4</td>\n",
       "      <td>1</td>\n",
       "      <td>1</td>\n",
       "      <td>Futrelle, Mrs. Jacques Heath (Lily May Peel)</td>\n",
       "      <td>female</td>\n",
       "      <td>35.0</td>\n",
       "      <td>1</td>\n",
       "      <td>0</td>\n",
       "      <td>113803</td>\n",
       "      <td>53.1000</td>\n",
       "      <td>C123</td>\n",
       "      <td>S</td>\n",
       "    </tr>\n",
       "    <tr>\n",
       "      <th>4</th>\n",
       "      <td>5</td>\n",
       "      <td>0</td>\n",
       "      <td>3</td>\n",
       "      <td>Allen, Mr. William Henry</td>\n",
       "      <td>male</td>\n",
       "      <td>35.0</td>\n",
       "      <td>0</td>\n",
       "      <td>0</td>\n",
       "      <td>373450</td>\n",
       "      <td>8.0500</td>\n",
       "      <td>NaN</td>\n",
       "      <td>S</td>\n",
       "    </tr>\n",
       "    <tr>\n",
       "      <th>...</th>\n",
       "      <td>...</td>\n",
       "      <td>...</td>\n",
       "      <td>...</td>\n",
       "      <td>...</td>\n",
       "      <td>...</td>\n",
       "      <td>...</td>\n",
       "      <td>...</td>\n",
       "      <td>...</td>\n",
       "      <td>...</td>\n",
       "      <td>...</td>\n",
       "      <td>...</td>\n",
       "      <td>...</td>\n",
       "    </tr>\n",
       "    <tr>\n",
       "      <th>886</th>\n",
       "      <td>887</td>\n",
       "      <td>0</td>\n",
       "      <td>2</td>\n",
       "      <td>Montvila, Rev. Juozas</td>\n",
       "      <td>male</td>\n",
       "      <td>27.0</td>\n",
       "      <td>0</td>\n",
       "      <td>0</td>\n",
       "      <td>211536</td>\n",
       "      <td>13.0000</td>\n",
       "      <td>NaN</td>\n",
       "      <td>S</td>\n",
       "    </tr>\n",
       "    <tr>\n",
       "      <th>887</th>\n",
       "      <td>888</td>\n",
       "      <td>1</td>\n",
       "      <td>1</td>\n",
       "      <td>Graham, Miss. Margaret Edith</td>\n",
       "      <td>female</td>\n",
       "      <td>19.0</td>\n",
       "      <td>0</td>\n",
       "      <td>0</td>\n",
       "      <td>112053</td>\n",
       "      <td>30.0000</td>\n",
       "      <td>B42</td>\n",
       "      <td>S</td>\n",
       "    </tr>\n",
       "    <tr>\n",
       "      <th>888</th>\n",
       "      <td>889</td>\n",
       "      <td>0</td>\n",
       "      <td>3</td>\n",
       "      <td>Johnston, Miss. Catherine Helen \"Carrie\"</td>\n",
       "      <td>female</td>\n",
       "      <td>NaN</td>\n",
       "      <td>1</td>\n",
       "      <td>2</td>\n",
       "      <td>W./C. 6607</td>\n",
       "      <td>23.4500</td>\n",
       "      <td>NaN</td>\n",
       "      <td>S</td>\n",
       "    </tr>\n",
       "    <tr>\n",
       "      <th>889</th>\n",
       "      <td>890</td>\n",
       "      <td>1</td>\n",
       "      <td>1</td>\n",
       "      <td>Behr, Mr. Karl Howell</td>\n",
       "      <td>male</td>\n",
       "      <td>26.0</td>\n",
       "      <td>0</td>\n",
       "      <td>0</td>\n",
       "      <td>111369</td>\n",
       "      <td>30.0000</td>\n",
       "      <td>C148</td>\n",
       "      <td>C</td>\n",
       "    </tr>\n",
       "    <tr>\n",
       "      <th>890</th>\n",
       "      <td>891</td>\n",
       "      <td>0</td>\n",
       "      <td>3</td>\n",
       "      <td>Dooley, Mr. Patrick</td>\n",
       "      <td>male</td>\n",
       "      <td>32.0</td>\n",
       "      <td>0</td>\n",
       "      <td>0</td>\n",
       "      <td>370376</td>\n",
       "      <td>7.7500</td>\n",
       "      <td>NaN</td>\n",
       "      <td>Q</td>\n",
       "    </tr>\n",
       "  </tbody>\n",
       "</table>\n",
       "<p>891 rows × 12 columns</p>\n",
       "</div>"
      ],
      "text/plain": [
       "     PassengerId  Survived  Pclass  \\\n",
       "0              1         0       3   \n",
       "1              2         1       1   \n",
       "2              3         1       3   \n",
       "3              4         1       1   \n",
       "4              5         0       3   \n",
       "..           ...       ...     ...   \n",
       "886          887         0       2   \n",
       "887          888         1       1   \n",
       "888          889         0       3   \n",
       "889          890         1       1   \n",
       "890          891         0       3   \n",
       "\n",
       "                                                  Name     Sex   Age  SibSp  \\\n",
       "0                              Braund, Mr. Owen Harris    male  22.0      1   \n",
       "1    Cumings, Mrs. John Bradley (Florence Briggs Th...  female  38.0      1   \n",
       "2                               Heikkinen, Miss. Laina  female  26.0      0   \n",
       "3         Futrelle, Mrs. Jacques Heath (Lily May Peel)  female  35.0      1   \n",
       "4                             Allen, Mr. William Henry    male  35.0      0   \n",
       "..                                                 ...     ...   ...    ...   \n",
       "886                              Montvila, Rev. Juozas    male  27.0      0   \n",
       "887                       Graham, Miss. Margaret Edith  female  19.0      0   \n",
       "888           Johnston, Miss. Catherine Helen \"Carrie\"  female   NaN      1   \n",
       "889                              Behr, Mr. Karl Howell    male  26.0      0   \n",
       "890                                Dooley, Mr. Patrick    male  32.0      0   \n",
       "\n",
       "     Parch            Ticket     Fare Cabin Embarked  \n",
       "0        0         A/5 21171   7.2500   NaN        S  \n",
       "1        0          PC 17599  71.2833   C85        C  \n",
       "2        0  STON/O2. 3101282   7.9250   NaN        S  \n",
       "3        0            113803  53.1000  C123        S  \n",
       "4        0            373450   8.0500   NaN        S  \n",
       "..     ...               ...      ...   ...      ...  \n",
       "886      0            211536  13.0000   NaN        S  \n",
       "887      0            112053  30.0000   B42        S  \n",
       "888      2        W./C. 6607  23.4500   NaN        S  \n",
       "889      0            111369  30.0000  C148        C  \n",
       "890      0            370376   7.7500   NaN        Q  \n",
       "\n",
       "[891 rows x 12 columns]"
      ]
     },
     "execution_count": 3,
     "metadata": {},
     "output_type": "execute_result"
    }
   ],
   "source": [
    "titanic_df = pd.read_csv(\"C:/Users/billy/OneDrive/Documents/NSS_projects/ml-exercise-02-BillyBrothers/data/titanic.csv\")\n",
    "titanic_df"
   ]
  },
  {
   "cell_type": "markdown",
   "id": "84af6cad-f82e-4a41-9e9e-3257f9354a65",
   "metadata": {},
   "source": [
    "1.  Create a DataFrame, X, which contains one column, Age, and a Series, y, which contains the target variable. Perform a 70/30 train/test split, stratifying by the target variable. Make sure that you set a random_state during this split. "
   ]
  },
  {
   "cell_type": "code",
   "execution_count": 5,
   "id": "d0f4aa27-67d6-4db5-a229-2a3fa93dbf41",
   "metadata": {},
   "outputs": [],
   "source": [
    "from sklearn.model_selection import train_test_split\n",
    "X = titanic_df[[\"Age\"]]\n",
    "y = titanic_df['Survived']\n",
    "X_train, X_test, y_train, y_test = train_test_split(X, y, test_size = 0.3, random_state = 42, stratify = y)"
   ]
  },
  {
   "cell_type": "markdown",
   "id": "ee60e8f6-8231-4d31-be18-16eef06115e8",
   "metadata": {},
   "source": [
    "2. Now, try and fit a logistic regression model using the [LogisticRegression class](https://scikit-learn.org/stable/modules/generated/sklearn.linear_model.LogisticRegression.html). When you do this, you're likely to encounter an error, that \"Input X contains NaN.\" If you check, you'll find that there are some missing values in the Age column. In the next step, we'll address this issue."
   ]
  },
  {
   "cell_type": "code",
   "execution_count": 7,
   "id": "7c854747-1459-4913-9795-23248a04679c",
   "metadata": {},
   "outputs": [],
   "source": [
    "from sklearn.linear_model import LogisticRegression\n",
    "#logreg = LogisticRegression()\n",
    "#logreg.fit(X_train, y_train)\n",
    "#logreg.predict(X_test)"
   ]
  },
  {
   "cell_type": "markdown",
   "id": "75a71b98-1f51-47ec-98c6-2bcb7668e06b",
   "metadata": {},
   "source": [
    "One option when a column contains missing values is to **impute** them, meaning to replace the missing values with an estimate. A simple way to impute is to fill missing values using the mean value. **Important Note:** When imputing with the mean, you should calculate the mean value only on the training data. In order to have an unbiased estimate of model performance, it is important that the model has access to no information about the test set.\n",
    "\n",
    "3. Using a [SimpleImputer](https://scikit-learn.org/stable/modules/generated/sklearn.impute.SimpleImputer.html), fit the training data and then use it to transform both the training and test data. "
   ]
  },
  {
   "cell_type": "code",
   "execution_count": 9,
   "id": "aabc6f73-df3a-4842-9d8a-cccf938f1038",
   "metadata": {},
   "outputs": [
    {
     "data": {
      "text/plain": [
       "(623, 1)"
      ]
     },
     "execution_count": 9,
     "metadata": {},
     "output_type": "execute_result"
    }
   ],
   "source": [
    "from sklearn.impute import SimpleImputer\n",
    "imputer =  SimpleImputer()\n",
    "imputer.fit(X_train)\n",
    "X_train_transformed = imputer.transform(X_train)\n",
    "X_test_transformed = imputer.transform(X_test)\n",
    "X_train_transformed.shape"
   ]
  },
  {
   "cell_type": "markdown",
   "id": "cf061398-6755-4807-8d61-b86c8ac92053",
   "metadata": {},
   "source": [
    "4. Now, fit your logistic regression model to the training data and generate predictions on the test data.\n",
    "\n",
    "There are multiple ways we can assess the performance of a classification model. A common way is put those predictions into a [confusion matrix](https://en.wikipedia.org/wiki/Confusion_matrix), which compares the predicted and actual values. "
   ]
  },
  {
   "cell_type": "code",
   "execution_count": 11,
   "id": "7a5c07bf-ebc0-4904-a367-9a7ffc785c8b",
   "metadata": {},
   "outputs": [
    {
     "data": {
      "text/plain": [
       "array([0, 0, 0, 0, 0, 0, 0, 0, 0, 0, 0, 0, 0, 0, 0, 0, 0, 0, 0, 0, 0, 0,\n",
       "       0, 0, 0, 0, 0, 0, 0, 0, 0, 0, 0, 0, 0, 0, 0, 0, 0, 0, 0, 0, 0, 0,\n",
       "       0, 0, 0, 0, 0, 0, 0, 0, 0, 0, 0, 0, 0, 0, 0, 0, 0, 0, 0, 0, 0, 0,\n",
       "       0, 0, 0, 0, 0, 0, 0, 0, 0, 0, 0, 0, 0, 0, 0, 0, 0, 0, 0, 0, 0, 0,\n",
       "       0, 0, 0, 0, 0, 0, 0, 0, 0, 0, 0, 0, 0, 0, 0, 0, 0, 0, 0, 0, 0, 0,\n",
       "       0, 0, 0, 0, 0, 0, 0, 0, 0, 0, 0, 0, 0, 0, 0, 0, 0, 0, 0, 0, 0, 0,\n",
       "       0, 0, 0, 0, 0, 0, 0, 0, 0, 0, 0, 0, 0, 0, 0, 0, 0, 0, 0, 0, 0, 0,\n",
       "       0, 0, 0, 0, 0, 0, 0, 0, 0, 0, 0, 0, 0, 0, 0, 0, 0, 0, 0, 0, 0, 0,\n",
       "       0, 0, 0, 0, 0, 0, 0, 0, 0, 0, 0, 0, 0, 0, 0, 0, 0, 0, 0, 0, 0, 0,\n",
       "       0, 0, 0, 0, 0, 0, 0, 0, 0, 0, 0, 0, 0, 0, 0, 0, 0, 0, 0, 0, 0, 0,\n",
       "       0, 0, 0, 0, 0, 0, 0, 0, 0, 0, 0, 0, 0, 0, 0, 0, 0, 0, 0, 0, 0, 0,\n",
       "       0, 0, 0, 0, 0, 0, 0, 0, 0, 0, 0, 0, 0, 0, 0, 0, 0, 0, 0, 0, 0, 0,\n",
       "       0, 0, 0, 0], dtype=int64)"
      ]
     },
     "execution_count": 11,
     "metadata": {},
     "output_type": "execute_result"
    }
   ],
   "source": [
    "logreg = LogisticRegression()\n",
    "logreg.fit(X_train_transformed, y_train)\n",
    "y_pred = logreg.predict(X_test_transformed)\n",
    "y_pred"
   ]
  },
  {
   "cell_type": "markdown",
   "id": "46827374-7dff-4150-9107-b42fc8d26bf4",
   "metadata": {},
   "source": [
    "5. Create a confusion matrix out of the predictions. What do you find?"
   ]
  },
  {
   "cell_type": "code",
   "execution_count": 13,
   "id": "5f0944df-f7ea-4e22-b5c6-ca7fae7d58fa",
   "metadata": {},
   "outputs": [
    {
     "data": {
      "text/plain": [
       "array([[165,   0],\n",
       "       [103,   0]], dtype=int64)"
      ]
     },
     "execution_count": 13,
     "metadata": {},
     "output_type": "execute_result"
    }
   ],
   "source": [
    "from sklearn.metrics import confusion_matrix\n",
    "ConfusionMatrix = confusion_matrix(y_test, y_pred)\n",
    "ConfusionMatrix"
   ]
  },
  {
   "cell_type": "markdown",
   "id": "cd1b635c-fdfc-46c9-bc89-b494ae2a2b18",
   "metadata": {},
   "source": [
    "6. Plot the ROC curve. How well does your model do? Hint: You can use the [RocCurveDisplay](https://scikit-learn.org/stable/modules/generated/sklearn.metrics.RocCurveDisplay.html) to create this plot."
   ]
  },
  {
   "cell_type": "code",
   "execution_count": 15,
   "id": "e7dd7634-c7d6-4540-b8c2-79a30ae16f63",
   "metadata": {},
   "outputs": [],
   "source": [
    "# The method returns a two-dimensional array. Each row corresponds to an instance from your test data, and each column corresponds to a class.\n",
    "# Interpreting the Output:\n",
    "# The first column of the array contains the probabilities of the instances belonging to class 0.\n",
    "# The second column contains the probabilities of the instances belonging to class 1.\n",
    "# The values represent the probabilities of how sure the model is that each instance belongs to a particular class.\n",
    "y_pred_probs = logreg.predict_proba(X_test_transformed)[:, 1]"
   ]
  },
  {
   "cell_type": "code",
   "execution_count": 16,
   "id": "2276a76c-49ea-4344-8af2-230c87b167d9",
   "metadata": {},
   "outputs": [
    {
     "data": {
      "image/png": "[encoded data removed]",
      "text/plain": [
       "<Figure size 640x480 with 1 Axes>"
      ]
     },
     "metadata": {},
     "output_type": "display_data"
    }
   ],
   "source": [
    "from sklearn.metrics import roc_curve\n",
    "fpr, tpr, thresholds = roc_curve(y_test, y_pred_probs)\n",
    "plt.plot([0, 1], [0,1], 'k--')\n",
    "plt.plot(fpr, tpr)\n",
    "plt.xlabel(\"False Positive Rate\")\n",
    "plt.ylabel(\"True Positive Rate\")\n",
    "plt.title('Logistic Regression ROC Curve')\n",
    "plt.show()"
   ]
  },
  {
   "cell_type": "code",
   "execution_count": 17,
   "id": "410f3483-5319-4c10-b694-32aa5a15045f",
   "metadata": {},
   "outputs": [
    {
     "data": {
      "text/plain": [
       "0.4984407178581936"
      ]
     },
     "execution_count": 17,
     "metadata": {},
     "output_type": "execute_result"
    }
   ],
   "source": [
    "from sklearn.metrics import roc_auc_score\n",
    "ROC_AUC = roc_auc_score(y_test, y_pred_probs)\n",
    "ROC_AUC"
   ]
  },
  {
   "cell_type": "code",
   "execution_count": 18,
   "id": "ac4ec516-c523-4c7d-91c7-9833daa3f775",
   "metadata": {},
   "outputs": [
    {
     "data": {
      "image/png": "[encoded data removed]",
      "text/plain": [
       "<Figure size 640x480 with 1 Axes>"
      ]
     },
     "metadata": {},
     "output_type": "display_data"
    }
   ],
   "source": [
    "from sklearn.metrics import RocCurveDisplay\n",
    "RocCurveDisplay.from_predictions(y_test, y_pred_probs);"
   ]
  },
  {
   "cell_type": "markdown",
   "id": "212636f5-8a6c-4917-b507-54306a563656",
   "metadata": {},
   "source": [
    "AUC Score Interpretation:\n",
    "\n",
    "0.5: Represents a model that performs no better than random guessing.\n",
    "Below 0.5: Indicates the model is performing worse than random guessing, meaning it is incorrectly classifying instances more often than it is correctly classifying them"
   ]
  },
  {
   "cell_type": "markdown",
   "id": "a7711acd-9d46-486e-adfe-6eafb9216a2a",
   "metadata": {},
   "source": [
    "You are likely to see that the model does not tend to predict that individuals survived the voyage. Let's see if we can determine why.\n",
    "\n",
    "7. Look at the average age of survivors vs. those that did not survive the voyage. What do you find?"
   ]
  },
  {
   "cell_type": "code",
   "execution_count": 21,
   "id": "7b4dfb86-d00f-4a16-8f1f-d90f73d52ef7",
   "metadata": {},
   "outputs": [
    {
     "name": "stdout",
     "output_type": "stream",
     "text": [
      "The average age of people who died on the titanic was 30.62617924528302\n",
      "The average age of people who died on the titanic was 28.343689655172415\n"
     ]
    }
   ],
   "source": [
    "Died_df = titanic_df[titanic_df['Survived'] == 0]\n",
    "avg_age_died = Died_df['Age'].mean()\n",
    "Survived_df = titanic_df[titanic_df['Survived'] == 1]\n",
    "avg_age_survived = Survived_df['Age'].mean()\n",
    "print(\"The average age of people who died on the titanic was {}\".format(avg_age_died))\n",
    "print(\"The average age of people who died on the titanic was {}\".format(avg_age_survived))"
   ]
  },
  {
   "cell_type": "markdown",
   "id": "03624db4-9415-4b36-b93d-0af1ade6bf1f",
   "metadata": {},
   "source": [
    "8. Perhaps the actual age number is as important as whether a passenger was a child or an adult. Create a Boolean column that indicates whether a passenger was a child or an adult. Pick a cutoff age and if they were less than this age, label as a child. We'll see later on how we can make choosing the age part of our model building pipeline, but for now, choose an age or do some calculations to pick an age that you think might do well."
   ]
  },
  {
   "cell_type": "code",
   "execution_count": 23,
   "id": "e08fcc94-eebb-459e-91c6-3ed0bc2bb80e",
   "metadata": {},
   "outputs": [],
   "source": [
    "titanic_df['Child'] = np.where(titanic_df['Age'] < 14, True, False)"
   ]
  },
  {
   "cell_type": "markdown",
   "id": "346f4a39-8dba-4dcc-84aa-ce74a65e6791",
   "metadata": {},
   "source": [
    "9. When imputing the missing values, you'll need to change the strategy from mean to most_frequent. Impute the missing values, then fit the model using this new variable, generate predictions, and view the confusion matrix. How did your model do?"
   ]
  },
  {
   "cell_type": "code",
   "execution_count": 25,
   "id": "db253c74-01c2-49b1-8fb1-96982714de3e",
   "metadata": {},
   "outputs": [
    {
     "data": {
      "text/plain": [
       "array([[152,  13],\n",
       "       [ 93,  10]], dtype=int64)"
      ]
     },
     "execution_count": 25,
     "metadata": {},
     "output_type": "execute_result"
    }
   ],
   "source": [
    "X = titanic_df[['Child']].astype(int)\n",
    "X_train, X_test, y_train, y_test, = train_test_split(X, y, test_size = 0.3, random_state = 42, stratify = y)\n",
    "imputer =  SimpleImputer(strategy = \"most_frequent\")\n",
    "imputer.fit(X_train)\n",
    "X_train_transformed = imputer.transform(X_train)\n",
    "X_test_transformed = imputer.transform(X_test)\n",
    "logreg = LogisticRegression()\n",
    "logreg.fit(X_train_transformed, y_train)\n",
    "y_pred = logreg.predict(X_test_transformed)\n",
    "confusion_matrix(y_test, y_pred)"
   ]
  },
  {
   "cell_type": "markdown",
   "id": "db5b532c-3b3a-4bfb-bf36-40618a49473a",
   "metadata": {},
   "source": [
    "10. Generate a classification report for your model."
   ]
  },
  {
   "cell_type": "code",
   "execution_count": 27,
   "id": "bdea1829-7e87-4d8f-b75c-10585bc17682",
   "metadata": {},
   "outputs": [
    {
     "name": "stdout",
     "output_type": "stream",
     "text": [
      "              precision    recall  f1-score   support\n",
      "\n",
      "           0       0.62      0.92      0.74       165\n",
      "           1       0.43      0.10      0.16       103\n",
      "\n",
      "    accuracy                           0.60       268\n",
      "   macro avg       0.53      0.51      0.45       268\n",
      "weighted avg       0.55      0.60      0.52       268\n",
      "\n"
     ]
    }
   ],
   "source": [
    "from sklearn.metrics import classification_report\n",
    "print(classification_report(y_test, y_pred))\n",
    "# Accuracy: the proportion of correct predictions across all classes.\n",
    "# Precision: Of all the positive predictions the model made, how many were actually correct?\n",
    "# Recall: Of all the actual positive instances, how many did the model correctly identify?"
   ]
  },
  {
   "cell_type": "code",
   "execution_count": 28,
   "id": "8260a787-b1c3-46d4-964a-3ba91d73c52a",
   "metadata": {},
   "outputs": [
    {
     "name": "stdout",
     "output_type": "stream",
     "text": [
      "60% of the time the model is accurate at predicting whether someone lived or died based on their age\n",
      "Precision: 43% of the time the model accurately predicted someone survived based on their age.\n",
      "Recall: The model detects only 10% of actual survival based on the age.\n",
      "F1 score: 16% value is low performance.\n"
     ]
    }
   ],
   "source": [
    "print(\"60% of the time the model is accurate at predicting whether someone lived or died based on their age\")\n",
    "print(\"Precision: 43% of the time the model accurately predicted someone survived based on their age.\")\n",
    "print(\"Recall: The model detects only 10% of actual survival based on the age.\")\n",
    "print(\"F1 score: 16% value is low performance.\")"
   ]
  },
  {
   "cell_type": "markdown",
   "id": "ad515f5c-e8bf-4cd2-b14d-fc98dbc0b382",
   "metadata": {},
   "source": [
    "Another important variable is the Sex variable. \n",
    "\n",
    "11. Create a DataFrame, X, which contains one column, Sex, and a Series, y, which contains the target variable. Perform a 70/30 train/test split, stratifying by the target variable. Make sure that you set a random_state during this split. \n",
    "\n",
    "If you inspect the Sex variable, you'll find that it is encoded as a string. We need to convert it to a numeric type so that our model can use it. We can do this using a [OneHotEncoder](https://scikit-learn.org/stable/modules/generated/sklearn.preprocessing.OneHotEncoder.html).\n",
    "\n",
    "The OneHotEncoder is a tool in machine learning, commonly used to convert categorical data (e.g., labels or text categories) into a format that models can process—specifically, numerical arrays. It transforms each unique category into a binary vector (a series of 0s and 1s) where:"
   ]
  },
  {
   "cell_type": "code",
   "execution_count": 30,
   "id": "7a486271-ee79-4e75-a4d0-e5042cd08455",
   "metadata": {},
   "outputs": [],
   "source": [
    "X = titanic_df[['Sex']]\n",
    "y = titanic_df['Survived']\n",
    "X_train, X_test, y_train, y_test = train_test_split(X, y, test_size = 0.3, random_state = 42, stratify = y)"
   ]
  },
  {
   "cell_type": "markdown",
   "id": "8648d80c-6e2b-43c2-9283-7881c1d109f4",
   "metadata": {},
   "source": [
    "12. Fit a OneHotEncoder to the training data and then transform both the training and test sets. Fit a model and evaluate the performance of this model.\n",
    "\n",
    "Notice how we have used different types of transformations, an imputer for the age-related variables and a OneHotEncoder for the Sex variable. When we need to use multiple types of transformations, a [ColumnTransformer](https://scikit-learn.org/stable/modules/generated/sklearn.compose.ColumnTransformer.html) is useful. "
   ]
  },
  {
   "cell_type": "code",
   "execution_count": 32,
   "id": "62299a11-f82a-4719-be02-14bcc3dda070",
   "metadata": {},
   "outputs": [
    {
     "data": {
      "text/plain": [
       "array([[138,  27],\n",
       "       [ 33,  70]], dtype=int64)"
      ]
     },
     "execution_count": 32,
     "metadata": {},
     "output_type": "execute_result"
    }
   ],
   "source": [
    "from sklearn.preprocessing import OneHotEncoder\n",
    "encoder = OneHotEncoder()\n",
    "X_train_encoded = encoder.fit_transform(X_train)\n",
    "X_test_encoded = encoder.transform(X_test)\n",
    "logreg = LogisticRegression()\n",
    "logreg.fit(X_train_encoded, y_train)\n",
    "y_pred = logreg.predict(X_test_encoded)\n",
    "confusion_matrix(y_test, y_pred)"
   ]
  },
  {
   "cell_type": "code",
   "execution_count": 33,
   "id": "6f2edae9-d7fd-4ac5-a287-cd490781e837",
   "metadata": {},
   "outputs": [
    {
     "name": "stdout",
     "output_type": "stream",
     "text": [
      "              precision    recall  f1-score   support\n",
      "\n",
      "           0       0.81      0.84      0.82       165\n",
      "           1       0.72      0.68      0.70       103\n",
      "\n",
      "    accuracy                           0.78       268\n",
      "   macro avg       0.76      0.76      0.76       268\n",
      "weighted avg       0.77      0.78      0.77       268\n",
      "\n"
     ]
    }
   ],
   "source": [
    "print(classification_report(y_test, y_pred))"
   ]
  },
  {
   "cell_type": "code",
   "execution_count": 34,
   "id": "99371164-1b59-41d6-a58b-f6f01020337c",
   "metadata": {},
   "outputs": [
    {
     "name": "stdout",
     "output_type": "stream",
     "text": [
      "78% of the time, the model accurately perdicts survival or death based on sex\n",
      "72% of the time, the model accurately predicts someone survives based on their sex\n",
      "68% of the time, the model predicts actual survival based on sex\n",
      "70% performance score\n"
     ]
    }
   ],
   "source": [
    "print(\"78% of the time, the model accurately perdicts survival or death based on sex\")\n",
    "print(\"72% of the time, the model accurately predicts someone survives based on their sex\")\n",
    "print(\"68% of the time, the model predicts actual survival based on sex\")\n",
    "print(\"70% performance score\")"
   ]
  },
  {
   "cell_type": "markdown",
   "id": "dbe67d31-b4d7-408b-af80-51b925e51d88",
   "metadata": {},
   "source": [
    "In the next part, we'll fit a model using both the Sex column and our column indicating whether the passenger was a child. \n",
    "\n",
    "13. Create a DataFrame, X, which contains two columns, Sex and the child indicator column, and a Series, y, which contains the target variable. Perform a 70/30 train/test split, stratifying by the target variable. Make sure that you set a random_state during this split. Then create a ColumnTransformer which will apply a SimpleImputer to the child column and a OneHotEncoder to the Sex column. Fit it on the training data and then transform the test data. Then fit a model on this and see how well it does."
   ]
  },
  {
   "cell_type": "code",
   "execution_count": 36,
   "id": "9860c266-d722-456f-83e4-efd3f9998cbe",
   "metadata": {},
   "outputs": [
    {
     "name": "stdout",
     "output_type": "stream",
     "text": [
      "[[330  54]\n",
      " [ 76 163]]\n",
      "              precision    recall  f1-score   support\n",
      "\n",
      "           0       0.81      0.86      0.84       384\n",
      "           1       0.75      0.68      0.71       239\n",
      "\n",
      "    accuracy                           0.79       623\n",
      "   macro avg       0.78      0.77      0.78       623\n",
      "weighted avg       0.79      0.79      0.79       623\n",
      "\n"
     ]
    }
   ],
   "source": [
    "from sklearn.compose import ColumnTransformer\n",
    "X = titanic_df[['Sex', 'Child']]\n",
    "y = titanic_df['Survived']\n",
    "X_test, X_train, y_test, y_train = train_test_split(X, y, test_size = 0.3, random_state = 42, stratify = y)\n",
    "ct = ColumnTransformer(\n",
    "    [(\"Child\", SimpleImputer(), [\"Child\"]),\n",
    "     (\"Sex\", OneHotEncoder(), [\"Sex\"])])\n",
    "X_train_transformed = ct.fit_transform(X_train)\n",
    "X_test_transformed = ct.transform(X_test)\n",
    "logreg = LogisticRegression()\n",
    "logreg.fit(X_train_transformed, y_train)\n",
    "y_pred = logreg.predict(X_test_transformed)\n",
    "print(confusion_matrix(y_test, y_pred))\n",
    "print(classification_report(y_test, y_pred))"
   ]
  },
  {
   "cell_type": "markdown",
   "id": "62b7074c-b2c3-4ec8-a4df-c8e9440f6d33",
   "metadata": {},
   "source": [
    "14. Create a Pipeline which contains the ColumnTransformer and the LogisticRegression model."
   ]
  },
  {
   "cell_type": "code",
   "execution_count": 38,
   "id": "2d9e9275-c51c-4fe6-a512-d698a2b74dbd",
   "metadata": {},
   "outputs": [
    {
     "name": "stdout",
     "output_type": "stream",
     "text": [
      "[[330  54]\n",
      " [ 76 163]]\n",
      "              precision    recall  f1-score   support\n",
      "\n",
      "           0       0.81      0.86      0.84       384\n",
      "           1       0.75      0.68      0.71       239\n",
      "\n",
      "    accuracy                           0.79       623\n",
      "   macro avg       0.78      0.77      0.78       623\n",
      "weighted avg       0.79      0.79      0.79       623\n",
      "\n"
     ]
    }
   ],
   "source": [
    "from sklearn.pipeline import Pipeline\n",
    "X = titanic_df[['Sex', 'Child']]\n",
    "y = titanic_df['Survived']\n",
    "X_test, X_train, y_test, y_train = train_test_split(X, y, test_size = 0.3, random_state = 42, stratify = y)\n",
    "logreg = LogisticRegression()\n",
    "ct = ColumnTransformer(\n",
    "    [(\"Child\", SimpleImputer(), [\"Child\"]),\n",
    "     (\"Sex\", OneHotEncoder(), [\"Sex\"])])\n",
    "steps = [(\"ct\", ct), (\"logreg\", logreg)]\n",
    "pipeline = Pipeline(steps)\n",
    "pipeline.fit(X_train, y_train)\n",
    "pipeline.predict(X_test)\n",
    "print(confusion_matrix(y_test, y_pred))\n",
    "print(classification_report(y_test, y_pred))"
   ]
  },
  {
   "cell_type": "code",
   "execution_count": null,
   "id": "233d1033-af8c-4d83-9782-644b7f072095",
   "metadata": {},
   "outputs": [],
   "source": []
  }
 ],
 "metadata": {
  "kernelspec": {
   "display_name": "Python 3 (ipykernel)",
   "language": "python",
   "name": "python3"
  },
  "language_info": {
   "codemirror_mode": {
    "name": "ipython",
    "version": 3
   },
   "file_extension": ".py",
   "mimetype": "text/x-python",
   "name": "python",
   "nbconvert_exporter": "python",
   "pygments_lexer": "ipython3",
   "version": "3.12.4"
  }
 },
 "nbformat": 4,
 "nbformat_minor": 5
}
